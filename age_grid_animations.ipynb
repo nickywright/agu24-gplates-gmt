{
 "cells": [
  {
   "cell_type": "markdown",
   "id": "785f9db6-db38-4224-a145-58eb0819c23c",
   "metadata": {},
   "source": [
    "# Create age grid animations for AGU 24 talk\n",
    "\n",
    "Create animation of palaeo-age grids using GPlately/pyGMT for AGU talk\n",
    "\n",
    "This notebook downloads and imports a plate model (Müller et al. 2019) and paleoage grids, and plots them using two projections: robinson, and plate carree.\n",
    "\n",
    "All the heavy lifing here is done using GPlately and pyGMT!"
   ]
  },
  {
   "cell_type": "code",
   "execution_count": 1,
   "id": "9b90516e-f19b-4eac-834d-bb8f6ff22f39",
   "metadata": {},
   "outputs": [],
   "source": [
    "import gplately\n",
    "import pygmt\n",
    "import numpy as np\n",
    "from gplately import pygplates\n",
    "import os\n",
    "\n",
    "from plate_model_manager import PlateModelManager, PresentDayRasterManager"
   ]
  },
  {
   "cell_type": "markdown",
   "id": "706e0d5b-6ae9-4bcc-8e3b-44f740c6b648",
   "metadata": {},
   "source": [
    "## Set plate model and get files"
   ]
  },
  {
   "cell_type": "code",
   "execution_count": 2,
   "id": "db964b32-7183-45dd-ab29-f2ce7b7136ed",
   "metadata": {
    "scrolled": true
   },
   "outputs": [
    {
     "name": "stdout",
     "output_type": "stream",
     "text": [
      "downloading https://repo.gplates.org/webdav/pmm/muller2019/Rotations.zip\n",
      "The local file(s) is/are still good. Will not download again at this moment.\n",
      "downloading https://repo.gplates.org/webdav/pmm/muller2019/Topologies.zip\n",
      "The local file(s) is/are still good. Will not download again at this moment.\n",
      "downloading https://repo.gplates.org/webdav/pmm/muller2019/StaticPolygons.zip\n",
      "The local file(s) is/are still good. Will not download again at this moment.\n",
      "downloading https://repo.gplates.org/webdav/pmm/muller2019/Coastlines.zip\n",
      "The local file(s) is/are still good. Will not download again at this moment.\n",
      "downloading https://repo.gplates.org/webdav/pmm/muller2019/ContinentalPolygons.zip\n",
      "The local file(s) is/are still good. Will not download again at this moment.\n",
      "downloading https://repo.gplates.org/webdav/pmm/muller2019/COBs.zip\n",
      "The local file(s) is/are still good. Will not download again at this moment.\n"
     ]
    }
   ],
   "source": [
    "pm_manager = PlateModelManager()\n",
    "model_name = \"Muller2019\"\n",
    "data_dir = \"plate-model-repo\"\n",
    "\n",
    "plate_model = pm_manager.get_model(model_name, data_dir=data_dir)\n",
    "\n",
    "rotation_model = plate_model.get_rotation_model()\n",
    "topology_filename = plate_model.get_topologies()\n",
    "static_polygons = plate_model.get_static_polygons()\n",
    "\n",
    "topology_features = pygplates.FeatureCollection()\n",
    "for file in topology_filename:\n",
    "    topology_features = pygplates.FeatureCollection(file)\n",
    "    topology_features.add(topology_features)\n",
    "    \n",
    "coastlines = plate_model.get_layer('Coastlines')\n",
    "continents = plate_model.get_layer('ContinentalPolygons')\n",
    "COBs =  plate_model.get_layer('COBs')\n",
    "\n",
    "model = gplately.PlateReconstruction(rotation_model, topology_features=topology_features, static_polygons=static_polygons)"
   ]
  },
  {
   "cell_type": "markdown",
   "id": "fceedf6c-f8b5-4f7e-8204-1eb7f7798bfa",
   "metadata": {},
   "source": [
    "### Download the agegrids"
   ]
  },
  {
   "cell_type": "code",
   "execution_count": 3,
   "id": "03b4efc8-b8d4-45ec-92e8-2fd729b90fa5",
   "metadata": {},
   "outputs": [],
   "source": [
    "%%capture  \n",
    "# ^^ this stop the output from printing, otherwise it can be alot!\n",
    "plate_model.get_rasters(\"AgeGrids\", list(np.arange(0,251,1)))"
   ]
  },
  {
   "cell_type": "code",
   "execution_count": 4,
   "id": "ffd30105-4569-4f71-9c33-4822747cdb07",
   "metadata": {},
   "outputs": [],
   "source": [
    "agegrid_filename_prefix = '%s/%s/Rasters/AgeGrids/Muller_etal_2019_Tectonics_v2.0_AgeGrid-' % (data_dir, model_name)\n",
    "agegrid_filename_ext = '.nc'"
   ]
  },
  {
   "cell_type": "code",
   "execution_count": 5,
   "id": "a31f72bb-461b-4687-be15-c65cce370f5e",
   "metadata": {},
   "outputs": [
    {
     "data": {
      "text/plain": [
       "'plate-model-repo/Muller2019/Rasters/AgeGrids/Muller_etal_2019_Tectonics_v2.0_AgeGrid-'"
      ]
     },
     "execution_count": 5,
     "metadata": {},
     "output_type": "execute_result"
    }
   ],
   "source": [
    "agegrid_filename_prefix"
   ]
  },
  {
   "cell_type": "markdown",
   "id": "e4a60714-a2cf-4228-927a-8cf8787f0f3d",
   "metadata": {},
   "source": [
    "### Set up plotting functions"
   ]
  },
  {
   "cell_type": "code",
   "execution_count": 6,
   "id": "41422f28-d398-4096-833b-8428e968de06",
   "metadata": {},
   "outputs": [],
   "source": [
    "def plot_age_through_time_robinson(time, plate_model, outdir, agegrid_filename_prefix, agegrid_filename_ext, central_meridian):\n",
    "\n",
    "    age = time\n",
    "    \n",
    "    gplot = gplately.PlotTopologies(plate_model,\n",
    "                                    coastlines=coastlines,\n",
    "                                    continents=continents,\n",
    "                                    COBs=COBs,\n",
    "                                    time=age)\n",
    "\n",
    "    age_grid = '%s%s%s' % (agegrid_filename_prefix, int(time), agegrid_filename_ext)\n",
    "\n",
    "    # ----- parameters for plot\n",
    "    region = 'd'\n",
    "   \n",
    "    width = 12\n",
    "    projection = 'N%s/' % central_meridian\n",
    "    x_offset = width + 1.2\n",
    "    \n",
    "    # plate boundary stuff\n",
    "    plateboundary_width = '0.5p'\n",
    "    plate_colour = 'black'\n",
    "    subduction_zone_colour = 'dodgerblue3'\n",
    "    ridge_colour = 'red'\n",
    "    \n",
    "    age_font = '14p,Helvetica,black'\n",
    "    coastline_col = 'grey80'\n",
    "    continent_col='grey70'\n",
    "    \n",
    "    label_font = '14p,Helvetica,black'\n",
    "    label_offset = 'J0.1/0.0'\n",
    "    label_position = 'TL'\n",
    "    \n",
    "    # ----- get plot things for gplately\n",
    "    gdf_subduction_left, gdf_subduction_right = gplot.get_subduction_direction()\n",
    "    \n",
    "    # resolve plates - get topologies and subset to only closed plate boundaries\n",
    "    gdf_topo = gplot.get_all_topologies(central_meridian=central_meridian)\n",
    "    gdf_topo_plates = gdf_topo[(gdf_topo['feature_name'] == 'TopologicalClosedPlateBoundary')]\n",
    "    gdf_topo_plates = gdf_topo_plates[~gdf_topo_plates.is_empty]\n",
    "\n",
    "    # get ACTUAL transforms\n",
    "    gdf_topo_sections = gplot.get_all_topological_sections()\n",
    "    gdf_topo_transforms = gdf_topo_sections[(gdf_topo_sections['feature_type'] == pygplates.FeatureType.gpml_transform)]\n",
    "    gdf_topo_transforms = gdf_topo_transforms.drop(columns='feature_type')  # get rid of the feature type column otherwise it will complain when plotting\n",
    "\n",
    "    # -------------------------------------------------------------------------------\n",
    "    # ------ plot\n",
    "    fig = pygmt.Figure()\n",
    "    pygmt.config(FONT_ANNOT=10, FONT_LABEL=8, FONT=10, MAP_TICK_PEN=\"0.75p\", MAP_FRAME_PEN=\"0.75p\", MAP_TICK_LENGTH_PRIMARY=\"4p\")\n",
    "    pygmt.makecpt(cmap=\"inferno\", series=[0, 250, 5], reverse=True)\n",
    "    fig.grdimage(grid=age_grid, region=region, projection=\"%s%sc\" % (projection, width))\n",
    "    \n",
    "    fig.plot(data=gplot.get_coastlines(), fill=coastline_col, transparency=0) # COBs\n",
    "\n",
    "    fig.plot(data=gdf_topo_plates.geometry, pen='%s,%s' % (plateboundary_width, plate_colour), frame=\"lrtb\")\n",
    "    fig.plot(data=gdf_subduction_left, pen='%s,%s' % (plateboundary_width, subduction_zone_colour), fill=subduction_zone_colour, style='f0.3/0.09+l+t')\n",
    "    fig.plot(data=gdf_subduction_right, pen='%s,%s' % (plateboundary_width, subduction_zone_colour), fill=subduction_zone_colour, style='f0.3/0.09+r+t')\n",
    "    fig.plot(data=gplot.get_ridges_and_transforms(), pen='%s,%s' % (plateboundary_width, ridge_colour))\n",
    "    fig.plot(data=gdf_topo_transforms, pen='%s,palegreen3' % plateboundary_width)\n",
    "\n",
    "    fig.basemap(region=region, projection=\"%s%sc\" % (projection, width), frame=\"lrtb\")\n",
    "    fig.text(text='%s Ma' % age, position=label_position, no_clip=True, font=label_font, offset=label_offset)\n",
    "    fig.colorbar(frame=[\"xa50f25+lAge (myr)\"], position=\"JMR+o0.5c/0.2c+w5.25c/0.3c+n\")\n",
    "    \n",
    "    fig.savefig('%s/age-%sMa.png' % (outdir, age), dpi=300)"
   ]
  },
  {
   "cell_type": "markdown",
   "id": "ba6c9881-3d76-4147-928d-38d274dfff71",
   "metadata": {},
   "source": [
    "# plot on robinson projection\n",
    "\n",
    "includes age and scalebar"
   ]
  },
  {
   "cell_type": "code",
   "execution_count": 7,
   "id": "71a32563-08e4-4dc7-8cdc-e7338dc91c7f",
   "metadata": {},
   "outputs": [],
   "source": [
    "plate_model = model\n",
    "central_meridian = 180"
   ]
  },
  {
   "cell_type": "code",
   "execution_count": 8,
   "id": "f8e8c113-3dc4-4d10-87af-fbca3ee843dc",
   "metadata": {},
   "outputs": [],
   "source": [
    "max_time = 250\n",
    "times = np.arange(0, max_time + 1, 1)"
   ]
  },
  {
   "cell_type": "code",
   "execution_count": 9,
   "id": "0e3397a3-39f7-4475-9bb3-d07cf8881a3f",
   "metadata": {},
   "outputs": [
    {
     "name": "stderr",
     "output_type": "stream",
     "text": [
      "ffmpeg version 6.0 Copyright (c) 2000-2023 the FFmpeg developers\n",
      "  built with clang version 15.0.7\n",
      "  configuration: --prefix=/Users/runner/miniforge3/conda-bld/ffmpeg_1692995812302/_h_env_placehold_placehold_placehold_placehold_placehold_placehold_placehold_placehold_placehold_placehold_placehold_placehold_placehold_placehold_placehold_placehold_placehold_placehold_placehold_pl --cc=arm64-apple-darwin20.0.0-clang --cxx=arm64-apple-darwin20.0.0-clang++ --nm=arm64-apple-darwin20.0.0-nm --ar=arm64-apple-darwin20.0.0-ar --disable-doc --disable-openssl --enable-demuxer=dash --enable-hardcoded-tables --enable-libfreetype --enable-libfontconfig --enable-libopenh264 --enable-libdav1d --enable-cross-compile --arch=arm64 --target-os=darwin --cross-prefix=arm64-apple-darwin20.0.0- --host-cc=/Users/runner/miniforge3/conda-bld/ffmpeg_1692995812302/_build_env/bin/x86_64-apple-darwin13.4.0-clang --enable-neon --enable-gnutls --enable-libmp3lame --enable-libvpx --enable-libass --enable-pthreads --enable-gpl --enable-libx264 --enable-libx265 --enable-libaom --enable-libsvtav1 --enable-libxml2 --enable-pic --enable-shared --disable-static --enable-version3 --enable-zlib --enable-libopus --pkg-config=/Users/runner/miniforge3/conda-bld/ffmpeg_1692995812302/_build_env/bin/pkg-config\n",
      "  libavutil      58.  2.100 / 58.  2.100\n",
      "  libavcodec     60.  3.100 / 60.  3.100\n",
      "  libavformat    60.  3.100 / 60.  3.100\n",
      "  libavdevice    60.  1.100 / 60.  1.100\n",
      "  libavfilter     9.  3.100 /  9.  3.100\n",
      "  libswscale      7.  1.100 /  7.  1.100\n",
      "  libswresample   4. 10.100 /  4. 10.100\n",
      "  libpostproc    57.  1.100 / 57.  1.100\n",
      "Input #0, image2, from 'figures_Muller2019_age_robinson/age%dMa.png':\n",
      "  Duration: 00:00:10.04, start: 0.000000, bitrate: N/A\n",
      "  Stream #0:0: Video: png, rgb24(pc), 1608x726 [SAR 11811:11811 DAR 268:121], 25 fps, 25 tbr, 25 tbn\n",
      "Stream mapping:\n",
      "  Stream #0:0 -> #0:0 (png (native) -> h264 (libx264))\n",
      "Press [q] to stop, [?] for help\n",
      "[libx264 @ 0x155105100] using SAR=1761/1763\n",
      "[libx264 @ 0x155105100] using cpu capabilities: ARMv8 NEON\n",
      "[libx264 @ 0x155105100] profile High, level 3.1, 4:2:0, 8-bit\n",
      "[libx264 @ 0x155105100] 264 - core 164 r3095 baee400 - H.264/MPEG-4 AVC codec - Copyleft 2003-2022 - http://www.videolan.org/x264.html - options: cabac=1 ref=3 deblock=1:0:0 analyse=0x3:0x113 me=hex subme=7 psy=1 psy_rd=1.00:0.00 mixed_ref=1 me_range=16 chroma_me=1 trellis=1 8x8dct=1 cqm=0 deadzone=21,11 fast_pskip=1 chroma_qp_offset=-2 threads=14 lookahead_threads=2 sliced_threads=0 nr=0 decimate=1 interlaced=0 bluray_compat=0 constrained_intra=0 bframes=3 b_pyramid=2 b_adapt=1 b_bias=0 direct=1 weightb=1 open_gop=0 weightp=2 keyint=250 keyint_min=12 scenecut=40 intra_refresh=0 rc_lookahead=40 rc=crf mbtree=1 crf=23.0 qcomp=0.60 qpmin=0 qpmax=69 qpstep=4 ip_ratio=1.40 aq=1:1.00\n",
      "Output #0, mp4, to 'Muller2019_age_robinson.mp4':\n",
      "  Metadata:\n",
      "    encoder         : Lavf60.3.100\n",
      "  Stream #0:0: Video: h264 (avc1 / 0x31637661), yuv420p(tv, unknown/bt709/iec61966-2-1, progressive), 968x464 [SAR 6164:6171 DAR 3082:1479], q=2-31, 12 fps, 12288 tbn\n",
      "    Metadata:\n",
      "      encoder         : Lavc60.3.100 libx264\n",
      "    Side data:\n",
      "      cpb: bitrate max/min/avg: 0/0/0 buffer size: 0 vbv_delay: N/A\n",
      "frame=  251 fps= 64 q=-1.0 Lsize=    2836kB time=00:00:20.66 bitrate=1124.0kbits/s speed=5.29x     \n",
      "video:2832kB audio:0kB subtitle:0kB other streams:0kB global headers:0kB muxing overhead: 0.135320%\n",
      "[libx264 @ 0x155105100] frame I:2     Avg QP:21.45  size: 50333\n",
      "[libx264 @ 0x155105100] frame P:63    Avg QP:22.05  size: 25642\n",
      "[libx264 @ 0x155105100] frame B:186   Avg QP:27.88  size:  6360\n",
      "[libx264 @ 0x155105100] consecutive B-frames:  1.2%  0.0%  0.0% 98.8%\n",
      "[libx264 @ 0x155105100] mb I  I16..4: 16.1% 35.7% 48.2%\n",
      "[libx264 @ 0x155105100] mb P  I16..4:  1.4%  1.5%  2.9%  P16..4: 16.5% 20.6% 17.8%  0.0%  0.0%    skip:39.3%\n",
      "[libx264 @ 0x155105100] mb B  I16..4:  0.1%  0.3%  0.1%  B16..8: 27.3% 10.0%  4.1%  direct: 3.4%  skip:54.7%  L0:34.7% L1:44.0% BI:21.3%\n",
      "[libx264 @ 0x155105100] 8x8 transform intra:34.1% inter:34.5%\n",
      "[libx264 @ 0x155105100] coded y,uvDC,uvAC intra: 46.0% 50.0% 45.7% inter: 13.5% 17.8% 13.2%\n",
      "[libx264 @ 0x155105100] i16 v,h,dc,p: 30% 52% 14%  4%\n",
      "[libx264 @ 0x155105100] i8 v,h,dc,ddl,ddr,vr,hd,vl,hu: 14% 16% 45%  3%  5%  4%  5%  2%  5%\n",
      "[libx264 @ 0x155105100] i4 v,h,dc,ddl,ddr,vr,hd,vl,hu: 17% 26% 22%  4%  7%  6%  8%  4%  6%\n",
      "[libx264 @ 0x155105100] i8c dc,h,v,p: 59% 22% 12%  8%\n",
      "[libx264 @ 0x155105100] Weighted P-Frames: Y:0.0% UV:0.0%\n",
      "[libx264 @ 0x155105100] ref P L0: 61.0% 19.8% 12.7%  6.5%\n",
      "[libx264 @ 0x155105100] ref B L0: 91.4%  6.8%  1.8%\n",
      "[libx264 @ 0x155105100] ref B L1: 96.1%  3.9%\n",
      "[libx264 @ 0x155105100] kb/s:1108.82\n"
     ]
    },
    {
     "data": {
      "text/plain": [
       "0"
      ]
     },
     "execution_count": 9,
     "metadata": {},
     "output_type": "execute_result"
    }
   ],
   "source": [
    "plot_type = 'age_robinson'\n",
    "outdir = 'figures_%s_%s' % (model_name, plot_type)\n",
    "os.makedirs(outdir, exist_ok=True)\n",
    "\n",
    "# plot files\n",
    "for time in times:\n",
    "    plot_age_through_time_robinson(time, plate_model, outdir, agegrid_filename_prefix, agegrid_filename_ext, central_meridian)\n",
    "\n",
    "\n",
    "# copy 0 Ma\n",
    "os.system('cp %s/age-0Ma.png %s/age0Ma.png' % (outdir, outdir))\n",
    "os.system('ffmpeg -r 12 -start_number -%s -i %s/age%sMa.png  -pix_fmt yuv420p -vf \"split=2[clr][bg];[bg]drawbox=c=white:t=fill[bg];[bg][clr]overlay,scale=trunc(iw/3.5)*2:trunc(ih/3.5)*2,pad=width=iw+50:height=ih+50:x=(ow-iw)/2:y=(oh-ih)/2:color=white\" -y %s_age_robinson.mp4 < /dev/null'\n",
    " % (max_time, outdir, '%d', model_name))"
   ]
  },
  {
   "cell_type": "markdown",
   "id": "d47c46bf-32d8-4f52-a27f-00a95267b085",
   "metadata": {},
   "source": [
    "-----\n",
    "\n",
    "## plot on plate carree for title slide\n",
    "\n",
    "Who doesn't like to distort the world?"
   ]
  },
  {
   "cell_type": "code",
   "execution_count": 10,
   "id": "c519b6bf-7b8a-4eb4-ac49-21749b794e36",
   "metadata": {},
   "outputs": [],
   "source": [
    "def plot_age_through_time_pc(time, plate_model, outdir, agegrid_filename_prefix, agegrid_filename_ext, central_meridian):\n",
    "\n",
    "    age = time\n",
    "    \n",
    "    gplot = gplately.PlotTopologies(plate_model,\n",
    "                                    coastlines=coastlines,\n",
    "                                    continents=continents,\n",
    "                                    COBs=COBs,\n",
    "                                    time=age)\n",
    "\n",
    "\n",
    "    age_grid = '%s%s%s' % (agegrid_filename_prefix, int(time), agegrid_filename_ext)\n",
    "\n",
    "    # ----- parameters for plot\n",
    "    region = 'd'\n",
    "   \n",
    "    width = 12\n",
    "    projection = 'Q%s/' % central_meridian\n",
    "    x_offset = width + 1.2\n",
    "    \n",
    "    # plate boundary stuff\n",
    "    plateboundary_width = '0.5p'\n",
    "    plate_colour = 'black'\n",
    "    subduction_zone_colour = 'dodgerblue3'\n",
    "    ridge_colour = 'red'\n",
    "    \n",
    "    age_font = '14p,Helvetica,black'\n",
    "    coastline_col = 'grey80'\n",
    "    continent_col='grey70'\n",
    "    \n",
    "    label_font = '14p,Helvetica,black'\n",
    "    label_offset = 'J0.15/0.25'\n",
    "    label_position = 'TL'\n",
    "    \n",
    "    # ----- get plot things for gplately\n",
    "    gdf_subduction_left, gdf_subduction_right = gplot.get_subduction_direction()\n",
    "    \n",
    "    # resolve plates - get topologies and subset to only closed plate boundaries\n",
    "    gdf_topo = gplot.get_all_topologies(central_meridian=central_meridian)\n",
    "    gdf_topo_plates = gdf_topo[(gdf_topo['feature_name'] == 'TopologicalClosedPlateBoundary')]\n",
    "    gdf_topo_plates = gdf_topo_plates[~gdf_topo_plates.is_empty]\n",
    "\n",
    "    gdf_topo_sections = gplot.get_all_topological_sections()\n",
    "    gdf_topo_transforms = gdf_topo_sections[(gdf_topo_sections['feature_type'] == pygplates.FeatureType.gpml_transform)]\n",
    "    gdf_topo_transforms = gdf_topo_transforms.drop(columns='feature_type')  # get rid of the feature type column otherwise it will complain when plotting\n",
    "\n",
    "    # -------------------------------------------------------------------------------\n",
    "    # ------ plot\n",
    "    fig = pygmt.Figure()\n",
    "    pygmt.config(FONT_ANNOT=10, FONT_LABEL=8, FONT=10, MAP_TICK_PEN=\"0.75p\", MAP_FRAME_PEN=\"0.75p\", MAP_TICK_LENGTH_PRIMARY=\"4p\")\n",
    "    pygmt.makecpt(cmap=\"inferno\", series=[0, 220, 5], reverse=True)\n",
    "    fig.grdimage(grid=age_grid, region=region, projection=\"%s%sc\" % (projection, width))\n",
    "    \n",
    "    fig.plot(data=gplot.get_coastlines(), fill=coastline_col, transparency=0) # COBs\n",
    "\n",
    "    fig.plot(data=gdf_topo_plates.geometry, pen='%s,%s' % (plateboundary_width, plate_colour), frame=\"lrtb\")\n",
    "    fig.plot(data=gdf_subduction_left, pen='%s,%s' % (plateboundary_width, subduction_zone_colour), fill=subduction_zone_colour, style='f0.3/0.09+l+t')\n",
    "    fig.plot(data=gdf_subduction_right, pen='%s,%s' % (plateboundary_width, subduction_zone_colour), fill=subduction_zone_colour, style='f0.3/0.09+r+t')\n",
    "    fig.plot(data=gplot.get_ridges_and_transforms(), pen='%s,%s' % (plateboundary_width, ridge_colour))\n",
    "    \n",
    "    fig.plot(data=gdf_topo_transforms, pen='%s,palegreen3' % plateboundary_width)\n",
    "    \n",
    "    fig.basemap(region=region, projection=\"%s%sc\" % (projection, width), frame=\"lrtb\")\n",
    "    fig.savefig('%s/age-%sMa.png' % (outdir, age), dpi=300)"
   ]
  },
  {
   "cell_type": "code",
   "execution_count": 11,
   "id": "f8bc04d9-3b7e-4690-becc-f3b02d058121",
   "metadata": {},
   "outputs": [
    {
     "name": "stderr",
     "output_type": "stream",
     "text": [
      "ffmpeg version 6.0 Copyright (c) 2000-2023 the FFmpeg developers\n",
      "  built with clang version 15.0.7\n",
      "  configuration: --prefix=/Users/runner/miniforge3/conda-bld/ffmpeg_1692995812302/_h_env_placehold_placehold_placehold_placehold_placehold_placehold_placehold_placehold_placehold_placehold_placehold_placehold_placehold_placehold_placehold_placehold_placehold_placehold_placehold_pl --cc=arm64-apple-darwin20.0.0-clang --cxx=arm64-apple-darwin20.0.0-clang++ --nm=arm64-apple-darwin20.0.0-nm --ar=arm64-apple-darwin20.0.0-ar --disable-doc --disable-openssl --enable-demuxer=dash --enable-hardcoded-tables --enable-libfreetype --enable-libfontconfig --enable-libopenh264 --enable-libdav1d --enable-cross-compile --arch=arm64 --target-os=darwin --cross-prefix=arm64-apple-darwin20.0.0- --host-cc=/Users/runner/miniforge3/conda-bld/ffmpeg_1692995812302/_build_env/bin/x86_64-apple-darwin13.4.0-clang --enable-neon --enable-gnutls --enable-libmp3lame --enable-libvpx --enable-libass --enable-pthreads --enable-gpl --enable-libx264 --enable-libx265 --enable-libaom --enable-libsvtav1 --enable-libxml2 --enable-pic --enable-shared --disable-static --enable-version3 --enable-zlib --enable-libopus --pkg-config=/Users/runner/miniforge3/conda-bld/ffmpeg_1692995812302/_build_env/bin/pkg-config\n",
      "  libavutil      58.  2.100 / 58.  2.100\n",
      "  libavcodec     60.  3.100 / 60.  3.100\n",
      "  libavformat    60.  3.100 / 60.  3.100\n",
      "  libavdevice    60.  1.100 / 60.  1.100\n",
      "  libavfilter     9.  3.100 /  9.  3.100\n",
      "  libswscale      7.  1.100 /  7.  1.100\n",
      "  libswresample   4. 10.100 /  4. 10.100\n",
      "  libpostproc    57.  1.100 / 57.  1.100\n",
      "Input #0, image2, from 'figures_Muller2019_age_pc/age%dMa.png':\n",
      "  Duration: 00:00:10.04, start: 0.000000, bitrate: N/A\n",
      "  Stream #0:0: Video: png, rgb24(pc), 1418x709 [SAR 11811:11811 DAR 2:1], 25 fps, 25 tbr, 25 tbn\n",
      "Stream mapping:\n",
      "  Stream #0:0 -> #0:0 (png (native) -> h264 (libx264))\n",
      "Press [q] to stop, [?] for help\n",
      "[libx264 @ 0x14ae05c20] using SAR=404/405\n",
      "[libx264 @ 0x14ae05c20] using cpu capabilities: ARMv8 NEON\n",
      "[libx264 @ 0x14ae05c20] profile High, level 2.2, 4:2:0, 8-bit\n",
      "[libx264 @ 0x14ae05c20] 264 - core 164 r3095 baee400 - H.264/MPEG-4 AVC codec - Copyleft 2003-2022 - http://www.videolan.org/x264.html - options: cabac=1 ref=3 deblock=1:0:0 analyse=0x3:0x113 me=hex subme=7 psy=1 psy_rd=1.00:0.00 mixed_ref=1 me_range=16 chroma_me=1 trellis=1 8x8dct=1 cqm=0 deadzone=21,11 fast_pskip=1 chroma_qp_offset=-2 threads=13 lookahead_threads=2 sliced_threads=0 nr=0 decimate=1 interlaced=0 bluray_compat=0 constrained_intra=0 bframes=3 b_pyramid=2 b_adapt=1 b_bias=0 direct=1 weightb=1 open_gop=0 weightp=2 keyint=250 keyint_min=8 scenecut=40 intra_refresh=0 rc_lookahead=40 rc=crf mbtree=1 crf=23.0 qcomp=0.60 qpmin=0 qpmax=69 qpstep=4 ip_ratio=1.40 aq=1:1.00\n",
      "Output #0, mp4, to 'Muller2019_age_pc.mp4':\n",
      "  Metadata:\n",
      "    encoder         : Lavf60.3.100\n",
      "  Stream #0:0: Video: h264 (avc1 / 0x31637661), yuv420p(tv, unknown/bt709/iec61966-2-1, progressive), 810x404 [SAR 404:405 DAR 2:1], q=2-31, 8 fps, 16384 tbn\n",
      "    Metadata:\n",
      "      encoder         : Lavc60.3.100 libx264\n",
      "    Side data:\n",
      "      cpb: bitrate max/min/avg: 0/0/0 buffer size: 0 vbv_delay: N/A\n",
      "frame=  251 fps=129 q=-1.0 Lsize=    3651kB time=00:00:31.00 bitrate= 964.9kbits/s speed=  16x     \n",
      "video:3647kB audio:0kB subtitle:0kB other streams:0kB global headers:0kB muxing overhead: 0.105463%\n",
      "[libx264 @ 0x14ae05c20] frame I:2     Avg QP:21.15  size: 49383\n",
      "[libx264 @ 0x14ae05c20] frame P:63    Avg QP:20.60  size: 31157\n",
      "[libx264 @ 0x14ae05c20] frame B:186   Avg QP:26.12  size:  8992\n",
      "[libx264 @ 0x14ae05c20] consecutive B-frames:  1.2%  0.0%  0.0% 98.8%\n",
      "[libx264 @ 0x14ae05c20] mb I  I16..4:  8.0% 31.8% 60.2%\n",
      "[libx264 @ 0x14ae05c20] mb P  I16..4:  2.5%  2.5%  5.3%  P16..4: 19.3% 30.2% 26.8%  0.0%  0.0%    skip:13.4%\n",
      "[libx264 @ 0x14ae05c20] mb B  I16..4:  0.4%  0.4%  0.3%  B16..8: 37.8% 18.1%  7.5%  direct: 5.7%  skip:29.8%  L0:34.9% L1:41.6% BI:23.6%\n",
      "[libx264 @ 0x14ae05c20] 8x8 transform intra:28.7% inter:34.3%\n",
      "[libx264 @ 0x14ae05c20] coded y,uvDC,uvAC intra: 49.1% 50.4% 46.4% inter: 23.7% 29.3% 22.3%\n",
      "[libx264 @ 0x14ae05c20] i16 v,h,dc,p: 30% 57% 10%  3%\n",
      "[libx264 @ 0x14ae05c20] i8 v,h,dc,ddl,ddr,vr,hd,vl,hu: 11% 18% 50%  2%  3%  3%  5%  2%  5%\n",
      "[libx264 @ 0x14ae05c20] i4 v,h,dc,ddl,ddr,vr,hd,vl,hu: 15% 40% 17%  3%  5%  4%  7%  3%  6%\n",
      "[libx264 @ 0x14ae05c20] i8c dc,h,v,p: 58% 28%  7%  7%\n",
      "[libx264 @ 0x14ae05c20] Weighted P-Frames: Y:0.0% UV:0.0%\n",
      "[libx264 @ 0x14ae05c20] ref P L0: 59.0% 20.5% 13.7%  6.8%\n",
      "[libx264 @ 0x14ae05c20] ref B L0: 90.4%  7.6%  2.0%\n",
      "[libx264 @ 0x14ae05c20] ref B L1: 95.9%  4.1%\n",
      "[libx264 @ 0x14ae05c20] kb/s:952.16\n"
     ]
    },
    {
     "data": {
      "text/plain": [
       "0"
      ]
     },
     "execution_count": 11,
     "metadata": {},
     "output_type": "execute_result"
    }
   ],
   "source": [
    "plot_type = 'age_pc'\n",
    "outdir = 'figures_%s_%s' % (model_name, plot_type)\n",
    "os.makedirs(outdir, exist_ok=True)\n",
    "\n",
    "for time in times:\n",
    "    plot_age_through_time_pc(time, plate_model, outdir, agegrid_filename_prefix, agegrid_filename_ext, central_meridian)\n",
    "\n",
    "# copy 0 Ma\n",
    "os.system('cp %s/age-0Ma.png %s/age0Ma.png' % (outdir, outdir))\n",
    "os.system('ffmpeg -r 8 -start_number -%s -i %s/age%sMa.png  -pix_fmt yuv420p -vf \"split=2[clr][bg];[bg]drawbox=c=white:t=fill[bg];[bg][clr]overlay,scale=trunc(iw/3.5)*2:trunc(ih/3.5)*2\" -y %s_age_pc.mp4 < /dev/null' \n",
    "          % (max_time, outdir, '%d', model_name))"
   ]
  },
  {
   "cell_type": "code",
   "execution_count": null,
   "id": "c9342a2b-a3c3-49dd-8f1a-e0bf5397f1c0",
   "metadata": {},
   "outputs": [],
   "source": []
  }
 ],
 "metadata": {
  "kernelspec": {
   "display_name": "Python 3 (ipykernel)",
   "language": "python",
   "name": "python3"
  },
  "language_info": {
   "codemirror_mode": {
    "name": "ipython",
    "version": 3
   },
   "file_extension": ".py",
   "mimetype": "text/x-python",
   "name": "python",
   "nbconvert_exporter": "python",
   "pygments_lexer": "ipython3",
   "version": "3.9.16"
  }
 },
 "nbformat": 4,
 "nbformat_minor": 5
}
